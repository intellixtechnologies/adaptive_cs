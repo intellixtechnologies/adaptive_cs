{
 "cells": [
  {
   "cell_type": "code",
   "execution_count": 1,
   "id": "faedb40c",
   "metadata": {},
   "outputs": [],
   "source": [
    "import sqlalchemy\n",
    "import json\n",
    "import datetime\n",
    "import warnings\n",
    "import pickle\n",
    "import os\n",
    "from sklearn.feature_extraction.text import CountVectorizer, TfidfTransformer\n",
    "from nltk.stem.snowball import SnowballStemmer"
   ]
  },
  {
   "cell_type": "code",
   "execution_count": 2,
   "id": "30268dde",
   "metadata": {},
   "outputs": [],
   "source": [
    "class StemmedCountVectorizer(CountVectorizer):\n",
    "    def build_analyzer(self):\n",
    "        analyzer = super(StemmedCountVectorizer, self).build_analyzer()\n",
    "        stemmer = SnowballStemmer(\"english\", ignore_stopwords=True)\n",
    "        return lambda doc: ([stemmer.stem(w) for w in analyzer(doc)])"
   ]
  },
  {
   "cell_type": "code",
   "execution_count": 17,
   "id": "47568ddb",
   "metadata": {},
   "outputs": [
    {
     "name": "stdout",
     "output_type": "stream",
     "text": [
      "Predicted Team Name :Telemetry\n",
      "Predicted Component :General\n",
      "Predicted Classification :Components\n"
     ]
    }
   ],
   "source": [
    "#Predict Team Name,component and classification based on model\n",
    "def predict_TeamName_Component_Classification(defect_summary=''):\n",
    "    #connect models to determine based on text summary\n",
    "    #Load Models\n",
    "    predictions ={}\n",
    "    model_Team_Name = pickle.load(\n",
    "        open(\n",
    "             os.getcwd()+\"/outputs/Team Name_SVM_RS.model\", \"rb\"\n",
    "        )\n",
    "    )\n",
    "    model_Component = pickle.load(\n",
    "        open(\n",
    "             os.getcwd()+\"/outputs/Component_SVM_RS.model\", \"rb\"\n",
    "        )\n",
    "    )\n",
    "    model_Classification = pickle.load(\n",
    "        open(\n",
    "             os.getcwd()+\"/outputs/Classification_SVM_RS.model\", \"rb\"\n",
    "        )\n",
    "    )\n",
    "    \n",
    "    pred_Team_Name = model_Team_Name.predict(defect_summary)[0]\n",
    "    pred_Component = model_Component.predict(defect_summary)[0]\n",
    "    pred_Classification =model_Classification.predict(defect_summary)[0]\n",
    "    \n",
    "\n",
    "    \n",
    "    predictions = {'Team_Name':pred_Team_Name, 'Component':pred_Component, 'Classification':pred_Classification }\n",
    "    \n",
    "    return(predictions)\n",
    "\n",
    "#issue_summary='Sync error while signing in to profile'\n",
    "#issue_summary='details not appearing on locked device'\n",
    "#issue_summary='Crash on toggle of settings on iPad'\n",
    "#issue_summary='Unable to save credentials for email'\n",
    "#issue_summary='Browser keeps crashing on opening multiple tabs' \n",
    "#issue_summary='Themes resulting in modified colors on the menubar'\n",
    "issue_summary = 'The application consumes too much memory and throws out of memory error'\n",
    "Team_Name = predict_TeamName_Component_Classification([issue_summary])['Team_Name']\n",
    "Component = predict_TeamName_Component_Classification([issue_summary])['Component']\n",
    "Classification = predict_TeamName_Component_Classification([issue_summary])['Classification']\n",
    "\n",
    "print(\"Predicted Team Name :\"+Team_Name)\n",
    "print(\"Predicted Component :\"+Component)\n",
    "print(\"Predicted Classification :\"+Classification)"
   ]
  },
  {
   "cell_type": "code",
   "execution_count": 24,
   "id": "7c5b4b36",
   "metadata": {},
   "outputs": [
    {
     "name": "stdout",
     "output_type": "stream",
     "text": [
      "Sentiment Score  -0.2331\n",
      "-0.2331\n",
      "False\n"
     ]
    },
    {
     "name": "stderr",
     "output_type": "stream",
     "text": [
      "[nltk_data] Downloading package vader_lexicon to\n",
      "[nltk_data]     C:\\Users\\abhis\\AppData\\Roaming\\nltk_data...\n",
      "[nltk_data]   Package vader_lexicon is already up-to-date!\n"
     ]
    }
   ],
   "source": [
    "#Sentiment Analysis based on Vader\n",
    "def get_sentiment(input_text):\n",
    "    import nltk\n",
    "    nltk.download('vader_lexicon')\n",
    "    from nltk.sentiment.vader import SentimentIntensityAnalyzer\n",
    "    sentiment = SentimentIntensityAnalyzer()\n",
    "    print(\"Sentiment Score \",sentiment.polarity_scores(input_text)['compound'])\n",
    "    return(sentiment.polarity_scores(input_text)['compound'])\n",
    "\n",
    "#Determine negative sentiment in order to send to manager based on vader and DF sentiments.\n",
    "def detect_user_neg_sentiment(df_sentiment=0, vader_sentiment=0):\n",
    "    #Send to manager if Dialogflow and custom analysis both suggest really negative sentiment and low CSI\n",
    "    if (df_sentiment < -0.8) and (vader_sentiment <=-0.7): \n",
    "        return(True)\n",
    "    else:\n",
    "        return(False)\n",
    "\n",
    "\n",
    "\n",
    "#vader_sentiment=get_sentiment('The application consumes too much memory and throws out of memory errors')\n",
    "#vader_sentiment=get_sentiment('The application has really good performance, is light weight but would have been better to have a mobile version as well')\n",
    "#vader_sentiment=get_sentiment('Rendering in ipad and phone is not so good. However works well in desktop')\n",
    "df_sentiment=-0.8 #Value from DialogFlow Natural Language API\n",
    "print(vader_sentiment)\n",
    "\n",
    "print(detect_user_neg_sentiment(df_sentiment, vader_sentiment))"
   ]
  },
  {
   "cell_type": "code",
   "execution_count": null,
   "id": "6eca8c8f",
   "metadata": {},
   "outputs": [],
   "source": []
  }
 ],
 "metadata": {
  "kernelspec": {
   "display_name": "Python 3 (ipykernel)",
   "language": "python",
   "name": "python3"
  },
  "language_info": {
   "codemirror_mode": {
    "name": "ipython",
    "version": 3
   },
   "file_extension": ".py",
   "mimetype": "text/x-python",
   "name": "python",
   "nbconvert_exporter": "python",
   "pygments_lexer": "ipython3",
   "version": "3.9.12"
  }
 },
 "nbformat": 4,
 "nbformat_minor": 5
}
